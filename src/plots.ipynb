{
 "cells": [
  {
   "cell_type": "code",
   "execution_count": 18,
   "metadata": {},
   "outputs": [],
   "source": [
    "import os\n",
    "import re\n",
    "from datetime import timedelta\n",
    "from time import time\n",
    "\n",
    "import pandas as pd\n",
    "import seaborn as sns\n",
    "\n",
    "from matplotlib import pyplot as plt\n",
    "from sklearn import metrics\n",
    "from sklearn.ensemble import RandomForestClassifier, VotingClassifier\n",
    "from sklearn.feature_extraction.text import TfidfVectorizer\n",
    "from sklearn.linear_model import LogisticRegression\n",
    "from sklearn.model_selection import train_test_split\n",
    "from sklearn.naive_bayes import MultinomialNB\n",
    "from sklearn.neural_network import MLPClassifier\n",
    "from sklearn.svm import LinearSVC\n",
    "import spacy\n",
    "import warnings\n",
    "warnings.filterwarnings('ignore')\n",
    "from spacy import displacy\n",
    "nlp = spacy.load(\"en_ner_bionlp13cg_md\")\n",
    "import numpy as np\n",
    "sns.set(style=\"darkgrid\")\n",
    "\n",
    "data_analysis_path = '../results/data_analysis/'"
   ]
  },
  {
   "cell_type": "code",
   "execution_count": 3,
   "metadata": {},
   "outputs": [],
   "source": [
    "df = pd.read_excel('../data/Questions.xlsx')\n",
    "type_to_category = {'summary': 0, 'list': 1, 'yesno': 2, 'factoid': 3}\n",
    "\n",
    "apply_type_to_category = lambda t: type_to_category[t]\n",
    "\n",
    "df['category_id'] = df['Type'].apply(apply_type_to_category)\n",
    "\n",
    "X_train, X_test, y_train, y_test, indices_train, indices_test = train_test_split(df['Question'], df['category_id'],\n",
    "                                                                                 df.index,\n",
    "                                                                                 test_size=0.2, random_state=0)"
   ]
  },
  {
   "cell_type": "code",
   "execution_count": 3,
   "metadata": {},
   "outputs": [
    {
     "data": {
      "text/plain": [
       "((1800,), (451,))"
      ]
     },
     "execution_count": 3,
     "metadata": {},
     "output_type": "execute_result"
    }
   ],
   "source": [
    "X_train.shape, X_test.shape"
   ]
  },
  {
   "cell_type": "code",
   "execution_count": 10,
   "metadata": {},
   "outputs": [
    {
     "data": {
      "text/html": [
       "<div class=\"entities\" style=\"line-height: 2.5; direction: ltr\">Is oxidative stress affected by \n",
       "<mark class=\"entity\" style=\"background: #ddd; padding: 0.45em 0.6em; margin: 0 0.25em; line-height: 1; border-radius: 0.35em;\">\n",
       "    FOXO\n",
       "    <span style=\"font-size: 0.8em; font-weight: bold; line-height: 1; border-radius: 0.35em; text-transform: uppercase; vertical-align: middle; margin-left: 0.5rem\">GENE_OR_GENE_PRODUCT</span>\n",
       "</mark>\n",
       " expression?</div>"
      ],
      "text/plain": [
       "<IPython.core.display.HTML object>"
      ]
     },
     "metadata": {},
     "output_type": "display_data"
    },
    {
     "data": {
      "text/html": [
       "<div class=\"entities\" style=\"line-height: 2.5; direction: ltr\">Is \n",
       "<mark class=\"entity\" style=\"background: #ddd; padding: 0.45em 0.6em; margin: 0 0.25em; line-height: 1; border-radius: 0.35em;\">\n",
       "    Calcium/Calmodulin dependent protein kinase II\n",
       "    <span style=\"font-size: 0.8em; font-weight: bold; line-height: 1; border-radius: 0.35em; text-transform: uppercase; vertical-align: middle; margin-left: 0.5rem\">GENE_OR_GENE_PRODUCT</span>\n",
       "</mark>\n",
       " (\n",
       "<mark class=\"entity\" style=\"background: #ddd; padding: 0.45em 0.6em; margin: 0 0.25em; line-height: 1; border-radius: 0.35em;\">\n",
       "    CaMKII\n",
       "    <span style=\"font-size: 0.8em; font-weight: bold; line-height: 1; border-radius: 0.35em; text-transform: uppercase; vertical-align: middle; margin-left: 0.5rem\">GENE_OR_GENE_PRODUCT</span>\n",
       "</mark>\n",
       ") involved in \n",
       "<mark class=\"entity\" style=\"background: #ddd; padding: 0.45em 0.6em; margin: 0 0.25em; line-height: 1; border-radius: 0.35em;\">\n",
       "    cardiac\n",
       "    <span style=\"font-size: 0.8em; font-weight: bold; line-height: 1; border-radius: 0.35em; text-transform: uppercase; vertical-align: middle; margin-left: 0.5rem\">ORGAN</span>\n",
       "</mark>\n",
       " arrhythmias and \n",
       "<mark class=\"entity\" style=\"background: #ddd; padding: 0.45em 0.6em; margin: 0 0.25em; line-height: 1; border-radius: 0.35em;\">\n",
       "    heart\n",
       "    <span style=\"font-size: 0.8em; font-weight: bold; line-height: 1; border-radius: 0.35em; text-transform: uppercase; vertical-align: middle; margin-left: 0.5rem\">ORGAN</span>\n",
       "</mark>\n",
       " failure?</div>"
      ],
      "text/plain": [
       "<IPython.core.display.HTML object>"
      ]
     },
     "metadata": {},
     "output_type": "display_data"
    },
    {
     "data": {
      "text/html": [
       "<div class=\"entities\" style=\"line-height: 2.5; direction: ltr\">Does cortical spreading depression appear in ischemic penumbra following ischemic stroke?</div>"
      ],
      "text/plain": [
       "<IPython.core.display.HTML object>"
      ]
     },
     "metadata": {},
     "output_type": "display_data"
    },
    {
     "data": {
      "text/html": [
       "<div class=\"entities\" style=\"line-height: 2.5; direction: ltr\">Synostosis of which \n",
       "<mark class=\"entity\" style=\"background: #ddd; padding: 0.45em 0.6em; margin: 0 0.25em; line-height: 1; border-radius: 0.35em;\">\n",
       "    cranial structures\n",
       "    <span style=\"font-size: 0.8em; font-weight: bold; line-height: 1; border-radius: 0.35em; text-transform: uppercase; vertical-align: middle; margin-left: 0.5rem\">TISSUE</span>\n",
       "</mark>\n",
       " are characteristic to the Mercedes Benz syndrome?</div>"
      ],
      "text/plain": [
       "<IPython.core.display.HTML object>"
      ]
     },
     "metadata": {},
     "output_type": "display_data"
    }
   ],
   "source": [
    "def display_NER(s):\n",
    "    doc = nlp(s)\n",
    "    displacy.render(doc, style=\"ent\",jupyter=True)\n",
    "\n",
    "    \n",
    "for s in X_train[6:10]:\n",
    "    display_NER(s)"
   ]
  },
  {
   "cell_type": "code",
   "execution_count": 27,
   "metadata": {},
   "outputs": [],
   "source": [
    "from collections import Counter\n",
    "\n",
    "def plot_countplot(dataframe, target_column, dataset_name):\n",
    "    number_of_classes = len(Counter(dataframe[target_column]))\n",
    "    x_size = number_of_classes + 1\n",
    "    y_size = 4\n",
    "    plt.figure(figsize=(x_size, y_size))\n",
    "    sns.countplot(x=target_column, data=dataframe)\n",
    "    plt.savefig(data_analysis_path + 'distribution_' + dataset_name, bbox_inches='tight', dpi=200)\n",
    "    plt.show()"
   ]
  },
  {
   "cell_type": "code",
   "execution_count": 11,
   "metadata": {},
   "outputs": [],
   "source": [
    "whole_quora = pd.read_csv('../data/whole_quora.csv', index_col=0)\n",
    "whole_quora.isnull().sum()\n",
    "whole_quora= whole_quora.dropna()"
   ]
  },
  {
   "cell_type": "code",
   "execution_count": 28,
   "metadata": {},
   "outputs": [
    {
     "data": {
      "image/png": "[encoded data removed]",
      "text/plain": [
       "<Figure size 360x288 with 1 Axes>"
      ]
     },
     "metadata": {},
     "output_type": "display_data"
    }
   ],
   "source": [
    "plot_countplot(whole_quora,'Type','whole_quora')"
   ]
  },
  {
   "cell_type": "code",
   "execution_count": 17,
   "metadata": {},
   "outputs": [
    {
     "data": {
      "text/plain": [
       "(509089, 4)"
      ]
     },
     "execution_count": 17,
     "metadata": {},
     "output_type": "execute_result"
    }
   ],
   "source": [
    "whole_quora.shape"
   ]
  },
  {
   "cell_type": "code",
   "execution_count": 18,
   "metadata": {},
   "outputs": [
    {
     "data": {
      "text/plain": [
       "(176325, 4)"
      ]
     },
     "execution_count": 18,
     "metadata": {},
     "output_type": "execute_result"
    }
   ],
   "source": [
    "filtered_quora = pd.read_csv('../data/filtered_quora.csv', index_col=0)\n",
    "filtered_quora.shape"
   ]
  },
  {
   "cell_type": "code",
   "execution_count": 29,
   "metadata": {},
   "outputs": [
    {
     "data": {
      "image/png": "[encoded data removed]",
      "text/plain": [
       "<Figure size 360x288 with 1 Axes>"
      ]
     },
     "metadata": {},
     "output_type": "display_data"
    }
   ],
   "source": [
    "plot_countplot(filtered_quora,'Type','filtered_quora')"
   ]
  },
  {
   "cell_type": "code",
   "execution_count": 41,
   "metadata": {
    "scrolled": false
   },
   "outputs": [
    {
     "name": "stdout",
     "output_type": "stream",
     "text": [
      "0.79 0.69 0.76 ../results/t2_experiments/quora_base_balanced_preprocessing.txt\n",
      "0.81 0.47 0.745 ../results/t2_experiments/whole_quora.txt\n",
      "0.85 0.61 0.8033333333333333 ../results/t2_experiments/filtered_quora.txt\n",
      "0.79 0.61 0.7466666666666667 ../results/t2_experiments/whole_quora_preprocessing.txt\n",
      "0.79 0.69 0.7666666666666666 ../results/t2_experiments/filtered_quora_preprocessing.txt\n"
     ]
    }
   ],
   "source": [
    "def parse_line(line):\n",
    "    splitted = line.strip().split()\n",
    "    class_name = splitted[0]\n",
    "    class_f_score = splitted[3]\n",
    "    return class_name, class_f_score\n",
    "    \n",
    "def parse_from_model_string(model_results):\n",
    "    splitted = model_results.split('\\n')\n",
    "    # print(model_results)\n",
    "    model_name = splitted[0]\n",
    "    f_scores = {}\n",
    "    for indx in range(3,7):\n",
    "        name, f_score = parse_line(splitted[indx]) \n",
    "        f_scores[name] =f_score \n",
    "    model_training_time = splitted[-1].split()[-1]\n",
    "    model_accuracy = splitted[-5].split()[-2]\n",
    "    summary = {'Model':model_name,'Training Time:': model_training_time,'Accuracy': model_accuracy, 'Scores:': f_scores}\n",
    "#     print(summary)\n",
    "    return [model_name, model_training_time, model_accuracy, list(f_scores.values())]\n",
    "    \n",
    "def make_results_table(results_path):\n",
    "    with open(results_path, 'r') as f:\n",
    "        st = f.read()\n",
    "        results_by_model = st.strip().split('--------------------------------------------------------------------------------')\n",
    "        model_names = []\n",
    "        model_times = []\n",
    "        model_accuracies = []\n",
    "        model_f_scores = []\n",
    "        for model in results_by_model[:-1]:\n",
    "            model_name, model_training_time, model_accuracy, f_scores = parse_from_model_string(model.strip())\n",
    "            model_names.append(model_name)\n",
    "            model_times.append(model_training_time)\n",
    "            model_accuracies.append(model_accuracy)\n",
    "            model_f_scores.append(f_scores)\n",
    "        results = pd.DataFrame(index=['summary F-score','list F-score','yesno F-score','factoid F-score','Accuracy', 'Training Time'], columns=model_names)\n",
    "    results.loc['Accuracy',:] = [float(a) for a in model_accuracies]\n",
    "    results.loc['Training Time',:] = model_times\n",
    "\n",
    "    for i,col in enumerate(results.columns):\n",
    "        results.loc[['summary F-score','list F-score','yesno F-score','factoid F-score'],col] =  model_f_scores[i]\n",
    "\n",
    "#     print(results.to_latex())    \n",
    "    return results.loc['Accuracy',:].values, results.columns\n",
    "\n",
    "for experiment_folder in ['../results/t2_experiments/']:\n",
    "\n",
    "    for experiment in os.listdir(experiment_folder):\n",
    "        path = os.path.join(experiment_folder, experiment)\n",
    "        if '.txt' in experiment:\n",
    "            accuracies, col = make_results_table(path)\n",
    "            print(np.max(accuracies), np.min(accuracies), np.mean(accuracies), path)\n",
    "# "
   ]
  },
  {
   "cell_type": "code",
   "execution_count": 46,
   "metadata": {},
   "outputs": [
    {
     "data": {
      "text/plain": [
       "range(0, 5)"
      ]
     },
     "execution_count": 46,
     "metadata": {},
     "output_type": "execute_result"
    }
   ],
   "source": [
    "range(5)"
   ]
  },
  {
   "cell_type": "code",
   "execution_count": 57,
   "metadata": {},
   "outputs": [
    {
     "data": {
      "image/png": "[encoded data removed]",
      "text/plain": [
       "<Figure size 504x288 with 1 Axes>"
      ]
     },
     "metadata": {},
     "output_type": "display_data"
    }
   ],
   "source": [
    "def plot_the_results(accuracies):\n",
    "    models = ['Random Forest', 'LinearSVC', 'Multinomial', 'LogisticRegression',\n",
    "       'Voting Classifier', 'MLP default']\n",
    "    number_of_classes = len(models)\n",
    "    x_size = number_of_classes + 1\n",
    "    y_size = 4\n",
    "    plt.figure(figsize=(x_size, y_size))\n",
    "    sns.barplot(x=models, y=accuracies)\n",
    "    plt.xticks(rotation=45)\n",
    "    plt.ylim(0, 1)\n",
    "\n",
    "    plt.savefig('whole_quora_best_results', bbox_inches='tight', dpi=200)\n",
    "    plt.show()\n",
    "plot_the_results(quora_accuracies)"
   ]
  },
  {
   "cell_type": "code",
   "execution_count": 36,
   "metadata": {},
   "outputs": [],
   "source": [
    "best_base = '../results/t1_experiments/baseline_preprocessing.txt'\n",
    "best_quora_filtered = '../results/t2_experiments/filtered_quora.txt'\n",
    "best_quora = '../results/t2_experiments/whole_quora.txt'\n",
    "\n",
    "base_accuracies = make_results_table(best_base)\n",
    "filtered_accuracies = make_results_table(best_quora_filtered)\n",
    "quora_accuracies = make_results_table(best_quora)"
   ]
  }
 ],
 "metadata": {
  "kernelspec": {
   "display_name": "Python 3",
   "language": "python",
   "name": "python3"
  },
  "language_info": {
   "codemirror_mode": {
    "name": "ipython",
    "version": 3
   },
   "file_extension": ".py",
   "mimetype": "text/x-python",
   "name": "python",
   "nbconvert_exporter": "python",
   "pygments_lexer": "ipython3",
   "version": "3.6.9"
  }
 },
 "nbformat": 4,
 "nbformat_minor": 2
}
