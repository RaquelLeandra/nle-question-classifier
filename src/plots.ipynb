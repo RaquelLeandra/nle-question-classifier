{
 "cells": [
  {
   "cell_type": "code",
   "execution_count": 1,
   "metadata": {},
   "outputs": [],
   "source": [
    "import os\n",
    "import re\n",
    "from datetime import timedelta\n",
    "from time import time\n",
    "\n",
    "import pandas as pd\n",
    "import seaborn as sns\n",
    "\n",
    "from matplotlib import pyplot as plt\n",
    "from sklearn import metrics\n",
    "from sklearn.ensemble import RandomForestClassifier, VotingClassifier\n",
    "from sklearn.feature_extraction.text import TfidfVectorizer\n",
    "from sklearn.linear_model import LogisticRegression\n",
    "from sklearn.model_selection import train_test_split\n",
    "from sklearn.naive_bayes import MultinomialNB\n",
    "from sklearn.neural_network import MLPClassifier\n",
    "from sklearn.svm import LinearSVC\n",
    "import spacy\n",
    "import warnings\n",
    "warnings.filterwarnings('ignore')\n",
    "from spacy import displacy\n",
    "nlp = spacy.load(\"en_ner_bionlp13cg_md\")\n",
    "\n",
    "sns.set(style=\"darkgrid\")\n",
    "\n",
    "data_analysis_path = '../results/data_analysis/'"
   ]
  },
  {
   "cell_type": "code",
   "execution_count": 2,
   "metadata": {},
   "outputs": [],
   "source": [
    "df = pd.read_excel('../data/Questions.xlsx')\n",
    "type_to_category = {'summary': 0, 'list': 1, 'yesno': 2, 'factoid': 3}\n",
    "\n",
    "apply_type_to_category = lambda t: type_to_category[t]\n",
    "\n",
    "df['category_id'] = df['Type'].apply(apply_type_to_category)\n",
    "\n",
    "X_train, X_test, y_train, y_test, indices_train, indices_test = train_test_split(df['Question'], df['category_id'],\n",
    "                                                                                 df.index,\n",
    "                                                                                 test_size=0.2, random_state=0)"
   ]
  },
  {
   "cell_type": "code",
   "execution_count": 3,
   "metadata": {},
   "outputs": [
    {
     "data": {
      "text/plain": [
       "((1800,), (451,))"
      ]
     },
     "execution_count": 3,
     "metadata": {},
     "output_type": "execute_result"
    }
   ],
   "source": [
    "X_train.shape, X_test.shape"
   ]
  },
  {
   "cell_type": "code",
   "execution_count": 10,
   "metadata": {},
   "outputs": [
    {
     "data": {
      "text/html": [
       "<div class=\"entities\" style=\"line-height: 2.5; direction: ltr\">Is oxidative stress affected by \n",
       "<mark class=\"entity\" style=\"background: #ddd; padding: 0.45em 0.6em; margin: 0 0.25em; line-height: 1; border-radius: 0.35em;\">\n",
       "    FOXO\n",
       "    <span style=\"font-size: 0.8em; font-weight: bold; line-height: 1; border-radius: 0.35em; text-transform: uppercase; vertical-align: middle; margin-left: 0.5rem\">GENE_OR_GENE_PRODUCT</span>\n",
       "</mark>\n",
       " expression?</div>"
      ],
      "text/plain": [
       "<IPython.core.display.HTML object>"
      ]
     },
     "metadata": {},
     "output_type": "display_data"
    },
    {
     "data": {
      "text/html": [
       "<div class=\"entities\" style=\"line-height: 2.5; direction: ltr\">Is \n",
       "<mark class=\"entity\" style=\"background: #ddd; padding: 0.45em 0.6em; margin: 0 0.25em; line-height: 1; border-radius: 0.35em;\">\n",
       "    Calcium/Calmodulin dependent protein kinase II\n",
       "    <span style=\"font-size: 0.8em; font-weight: bold; line-height: 1; border-radius: 0.35em; text-transform: uppercase; vertical-align: middle; margin-left: 0.5rem\">GENE_OR_GENE_PRODUCT</span>\n",
       "</mark>\n",
       " (\n",
       "<mark class=\"entity\" style=\"background: #ddd; padding: 0.45em 0.6em; margin: 0 0.25em; line-height: 1; border-radius: 0.35em;\">\n",
       "    CaMKII\n",
       "    <span style=\"font-size: 0.8em; font-weight: bold; line-height: 1; border-radius: 0.35em; text-transform: uppercase; vertical-align: middle; margin-left: 0.5rem\">GENE_OR_GENE_PRODUCT</span>\n",
       "</mark>\n",
       ") involved in \n",
       "<mark class=\"entity\" style=\"background: #ddd; padding: 0.45em 0.6em; margin: 0 0.25em; line-height: 1; border-radius: 0.35em;\">\n",
       "    cardiac\n",
       "    <span style=\"font-size: 0.8em; font-weight: bold; line-height: 1; border-radius: 0.35em; text-transform: uppercase; vertical-align: middle; margin-left: 0.5rem\">ORGAN</span>\n",
       "</mark>\n",
       " arrhythmias and \n",
       "<mark class=\"entity\" style=\"background: #ddd; padding: 0.45em 0.6em; margin: 0 0.25em; line-height: 1; border-radius: 0.35em;\">\n",
       "    heart\n",
       "    <span style=\"font-size: 0.8em; font-weight: bold; line-height: 1; border-radius: 0.35em; text-transform: uppercase; vertical-align: middle; margin-left: 0.5rem\">ORGAN</span>\n",
       "</mark>\n",
       " failure?</div>"
      ],
      "text/plain": [
       "<IPython.core.display.HTML object>"
      ]
     },
     "metadata": {},
     "output_type": "display_data"
    },
    {
     "data": {
      "text/html": [
       "<div class=\"entities\" style=\"line-height: 2.5; direction: ltr\">Does cortical spreading depression appear in ischemic penumbra following ischemic stroke?</div>"
      ],
      "text/plain": [
       "<IPython.core.display.HTML object>"
      ]
     },
     "metadata": {},
     "output_type": "display_data"
    },
    {
     "data": {
      "text/html": [
       "<div class=\"entities\" style=\"line-height: 2.5; direction: ltr\">Synostosis of which \n",
       "<mark class=\"entity\" style=\"background: #ddd; padding: 0.45em 0.6em; margin: 0 0.25em; line-height: 1; border-radius: 0.35em;\">\n",
       "    cranial structures\n",
       "    <span style=\"font-size: 0.8em; font-weight: bold; line-height: 1; border-radius: 0.35em; text-transform: uppercase; vertical-align: middle; margin-left: 0.5rem\">TISSUE</span>\n",
       "</mark>\n",
       " are characteristic to the Mercedes Benz syndrome?</div>"
      ],
      "text/plain": [
       "<IPython.core.display.HTML object>"
      ]
     },
     "metadata": {},
     "output_type": "display_data"
    }
   ],
   "source": [
    "def display_NER(s):\n",
    "    doc = nlp(s)\n",
    "    displacy.render(doc, style=\"ent\",jupyter=True)\n",
    "\n",
    "    \n",
    "for s in X_train[6:10]:\n",
    "    display_NER(s)"
   ]
  },
  {
   "cell_type": "code",
   "execution_count": 27,
   "metadata": {},
   "outputs": [],
   "source": [
    "from collections import Counter\n",
    "\n",
    "def plot_countplot(dataframe, target_column, dataset_name):\n",
    "    number_of_classes = len(Counter(dataframe[target_column]))\n",
    "    x_size = number_of_classes + 1\n",
    "    y_size = 4\n",
    "    plt.figure(figsize=(x_size, y_size))\n",
    "    sns.countplot(x=target_column, data=dataframe)\n",
    "    plt.savefig(data_analysis_path + 'distribution_' + dataset_name, bbox_inches='tight', dpi=200)\n",
    "    plt.show()"
   ]
  },
  {
   "cell_type": "code",
   "execution_count": 11,
   "metadata": {},
   "outputs": [],
   "source": [
    "whole_quora = pd.read_csv('../data/whole_quora.csv', index_col=0)\n",
    "whole_quora.isnull().sum()\n",
    "whole_quora= whole_quora.dropna()"
   ]
  },
  {
   "cell_type": "code",
   "execution_count": 28,
   "metadata": {},
   "outputs": [
    {
     "data": {
      "image/png": "[encoded data removed]",
      "text/plain": [
       "<Figure size 360x288 with 1 Axes>"
      ]
     },
     "metadata": {},
     "output_type": "display_data"
    }
   ],
   "source": [
    "plot_countplot(whole_quora,'Type','whole_quora')"
   ]
  },
  {
   "cell_type": "code",
   "execution_count": 17,
   "metadata": {},
   "outputs": [
    {
     "data": {
      "text/plain": [
       "(509089, 4)"
      ]
     },
     "execution_count": 17,
     "metadata": {},
     "output_type": "execute_result"
    }
   ],
   "source": [
    "whole_quora.shape"
   ]
  },
  {
   "cell_type": "code",
   "execution_count": 18,
   "metadata": {},
   "outputs": [
    {
     "data": {
      "text/plain": [
       "(176325, 4)"
      ]
     },
     "execution_count": 18,
     "metadata": {},
     "output_type": "execute_result"
    }
   ],
   "source": [
    "filtered_quora = pd.read_csv('../data/filtered_quora.csv', index_col=0)\n",
    "filtered_quora.shape"
   ]
  },
  {
   "cell_type": "code",
   "execution_count": 29,
   "metadata": {},
   "outputs": [
    {
     "data": {
      "image/png": "[encoded data removed]",
      "text/plain": [
       "<Figure size 360x288 with 1 Axes>"
      ]
     },
     "metadata": {},
     "output_type": "display_data"
    }
   ],
   "source": [
    "plot_countplot(filtered_quora,'Type','filtered_quora')"
   ]
  },
  {
   "cell_type": "code",
   "execution_count": 7,
   "metadata": {
    "scrolled": false
   },
   "outputs": [
    {
     "data": {
      "text/html": [
       "<div>\n",
       "<style scoped>\n",
       "    .dataframe tbody tr th:only-of-type {\n",
       "        vertical-align: middle;\n",
       "    }\n",
       "\n",
       "    .dataframe tbody tr th {\n",
       "        vertical-align: top;\n",
       "    }\n",
       "\n",
       "    .dataframe thead th {\n",
       "        text-align: right;\n",
       "    }\n",
       "</style>\n",
       "<table border=\"1\" class=\"dataframe\">\n",
       "  <thead>\n",
       "    <tr style=\"text-align: right;\">\n",
       "      <th></th>\n",
       "      <th>Random Forest</th>\n",
       "      <th>LinearSVC</th>\n",
       "      <th>Multinomial</th>\n",
       "      <th>LogisticRegression</th>\n",
       "      <th>Voting Classifier</th>\n",
       "      <th>MLP default</th>\n",
       "    </tr>\n",
       "  </thead>\n",
       "  <tbody>\n",
       "    <tr>\n",
       "      <th>summary F-score</th>\n",
       "      <td>0.68</td>\n",
       "      <td>0.75</td>\n",
       "      <td>0.56</td>\n",
       "      <td>0.75</td>\n",
       "      <td>0.75</td>\n",
       "      <td>0.72</td>\n",
       "    </tr>\n",
       "    <tr>\n",
       "      <th>list F-score</th>\n",
       "      <td>0.65</td>\n",
       "      <td>0.65</td>\n",
       "      <td>0.31</td>\n",
       "      <td>0.66</td>\n",
       "      <td>0.66</td>\n",
       "      <td>0.68</td>\n",
       "    </tr>\n",
       "    <tr>\n",
       "      <th>yesno F-score</th>\n",
       "      <td>0.92</td>\n",
       "      <td>0.93</td>\n",
       "      <td>0.93</td>\n",
       "      <td>0.92</td>\n",
       "      <td>0.93</td>\n",
       "      <td>0.94</td>\n",
       "    </tr>\n",
       "    <tr>\n",
       "      <th>factoid F-score</th>\n",
       "      <td>0.67</td>\n",
       "      <td>0.74</td>\n",
       "      <td>0.43</td>\n",
       "      <td>0.74</td>\n",
       "      <td>0.74</td>\n",
       "      <td>0.70</td>\n",
       "    </tr>\n",
       "    <tr>\n",
       "      <th>Accuracy</th>\n",
       "      <td>0.75</td>\n",
       "      <td>0.78</td>\n",
       "      <td>0.61</td>\n",
       "      <td>0.78</td>\n",
       "      <td>0.79</td>\n",
       "      <td>0.77</td>\n",
       "    </tr>\n",
       "    <tr>\n",
       "      <th>Training Time</th>\n",
       "      <td>0:06:03.127330</td>\n",
       "      <td>0:00:35.049026</td>\n",
       "      <td>0:00:00.718535</td>\n",
       "      <td>0:00:14.469564</td>\n",
       "      <td>0:11:56.382617</td>\n",
       "      <td>0:13:09.993350</td>\n",
       "    </tr>\n",
       "  </tbody>\n",
       "</table>\n",
       "</div>"
      ],
      "text/plain": [
       "                  Random Forest       LinearSVC     Multinomial  \\\n",
       "summary F-score            0.68            0.75            0.56   \n",
       "list F-score               0.65            0.65            0.31   \n",
       "yesno F-score              0.92            0.93            0.93   \n",
       "factoid F-score            0.67            0.74            0.43   \n",
       "Accuracy                   0.75            0.78            0.61   \n",
       "Training Time    0:06:03.127330  0:00:35.049026  0:00:00.718535   \n",
       "\n",
       "                LogisticRegression Voting Classifier     MLP default  \n",
       "summary F-score               0.75              0.75            0.72  \n",
       "list F-score                  0.66              0.66            0.68  \n",
       "yesno F-score                 0.92              0.93            0.94  \n",
       "factoid F-score               0.74              0.74            0.70  \n",
       "Accuracy                      0.78              0.79            0.77  \n",
       "Training Time       0:00:14.469564    0:11:56.382617  0:13:09.993350  "
      ]
     },
     "execution_count": 7,
     "metadata": {},
     "output_type": "execute_result"
    }
   ],
   "source": [
    "def parse_line(line):\n",
    "    splitted = line.strip().split()\n",
    "    class_name = splitted[0]\n",
    "    class_f_score = splitted[3]\n",
    "    return class_name, class_f_score\n",
    "    \n",
    "def parse_from_model_string(model_results):\n",
    "    splitted = model_results.split('\\n')\n",
    "    # print(model_results)\n",
    "    model_name = splitted[0]\n",
    "    f_scores = {}\n",
    "    for indx in range(3,7):\n",
    "        name, f_score = parse_line(splitted[indx]) \n",
    "        f_scores[name] =f_score \n",
    "    model_training_time = splitted[-1].split()[-1]\n",
    "    model_accuracy = splitted[-5].split()[-2]\n",
    "    summary = {'Model':model_name,'Training Time:': model_training_time,'Accuracy': model_accuracy, 'Scores:': f_scores}\n",
    "#     print(summary)\n",
    "    return [model_name, model_training_time, model_accuracy, list(f_scores.values())]\n",
    "    \n",
    "\n",
    "with open('../results/t2_experiments/whole_quora_preprocessing.txt', 'r') as f:\n",
    "    st = f.read()\n",
    "    results_by_model = st.strip().split('--------------------------------------------------------------------------------')\n",
    "    model_names = []\n",
    "    model_times = []\n",
    "    model_accuracies = []\n",
    "    model_f_scores = []\n",
    "    for model in results_by_model[:-1]:\n",
    "        model_name, model_training_time, model_accuracy, f_scores = parse_from_model_string(model.strip())\n",
    "        model_names.append(model_name)\n",
    "        model_times.append(model_training_time)\n",
    "        model_accuracies.append(model_accuracy)\n",
    "        model_f_scores.append(f_scores)\n",
    "    results = pd.DataFrame(index=['summary F-score','list F-score','yesno F-score','factoid F-score','Accuracy', 'Training Time'], columns=model_names)\n",
    "results.loc['Accuracy',:] = model_accuracies\n",
    "results.loc['Training Time',:] = model_times\n",
    "\n",
    "for i,col in enumerate(results.columns):\n",
    "    results.loc[['summary F-score','list F-score','yesno F-score','factoid F-score'],col] =  model_f_scores[i]\n",
    "results    "
   ]
  },
  {
   "cell_type": "code",
   "execution_count": 8,
   "metadata": {},
   "outputs": [
    {
     "name": "stdout",
     "output_type": "stream",
     "text": [
      "\\begin{tabular}{lllllll}\n",
      "\\toprule\n",
      "{} &   Random Forest &       LinearSVC &     Multinomial & LogisticRegression & Voting Classifier &     MLP default \\\\\n",
      "\\midrule\n",
      "summary F-score &            0.68 &            0.75 &            0.56 &               0.75 &              0.75 &            0.72 \\\\\n",
      "list F-score    &            0.65 &            0.65 &            0.31 &               0.66 &              0.66 &            0.68 \\\\\n",
      "yesno F-score   &            0.92 &            0.93 &            0.93 &               0.92 &              0.93 &            0.94 \\\\\n",
      "factoid F-score &            0.67 &            0.74 &            0.43 &               0.74 &              0.74 &            0.70 \\\\\n",
      "Accuracy        &            0.75 &            0.78 &            0.61 &               0.78 &              0.79 &            0.77 \\\\\n",
      "Training Time   &  0:06:03.127330 &  0:00:35.049026 &  0:00:00.718535 &     0:00:14.469564 &    0:11:56.382617 &  0:13:09.993350 \\\\\n",
      "\\bottomrule\n",
      "\\end{tabular}\n",
      "\n"
     ]
    }
   ],
   "source": [
    "print(results.to_latex())"
   ]
  }
 ],
 "metadata": {
  "kernelspec": {
   "display_name": "Python 3",
   "language": "python",
   "name": "python3"
  },
  "language_info": {
   "codemirror_mode": {
    "name": "ipython",
    "version": 3
   },
   "file_extension": ".py",
   "mimetype": "text/x-python",
   "name": "python",
   "nbconvert_exporter": "python",
   "pygments_lexer": "ipython3",
   "version": "3.6.9"
  }
 },
 "nbformat": 4,
 "nbformat_minor": 2
}
